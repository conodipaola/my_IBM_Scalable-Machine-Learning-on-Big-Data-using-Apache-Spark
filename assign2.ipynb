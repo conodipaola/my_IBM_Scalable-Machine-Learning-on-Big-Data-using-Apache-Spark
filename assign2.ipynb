{
    "nbformat_minor": 1, 
    "cells": [
        {
            "source": "Welcome to exercise two of \u201cApache Spark for Scalable Machine Learning on BigData\u201d. In this exercise you\u2019ll apply the basics of functional and parallel programming. \n\nAgain, please use the following two links for your reference:\nhttps://spark.apache.org/docs/latest/api/python/pyspark.html#pyspark.RDD\nhttps://spark.apache.org/docs/latest/rdd-programming-guide.html\n\nLet\u2019s actually create a python function which decides whether a value is greater than 50 (True) or not (False).", 
            "cell_type": "markdown", 
            "metadata": {
                "collapsed": true
            }
        }, 
        {
            "execution_count": 1, 
            "cell_type": "code", 
            "metadata": {}, 
            "outputs": [
                {
                    "output_type": "stream", 
                    "name": "stdout", 
                    "text": "Waiting for a Spark session to start...\nSpark Initialization Done! ApplicationId = app-20190923090241-0000\nKERNEL_ID = 4c99be2b-0b12-4230-a7c1-3ec312669e4a\n"
                }
            ], 
            "source": "def gt50(i):\n    if i > 50:\n        return True\n    else:\n        return False"
        }, 
        {
            "execution_count": 2, 
            "cell_type": "code", 
            "metadata": {}, 
            "outputs": [
                {
                    "output_type": "stream", 
                    "name": "stdout", 
                    "text": "False\nTrue\n"
                }
            ], 
            "source": "print(gt50(4))\nprint(gt50(51))"
        }, 
        {
            "source": "Let\u2019s simplify this function", 
            "cell_type": "markdown", 
            "metadata": {}
        }, 
        {
            "execution_count": 3, 
            "cell_type": "code", 
            "metadata": {}, 
            "outputs": [], 
            "source": "def gt50(i):\n    return i > 50"
        }, 
        {
            "execution_count": 4, 
            "cell_type": "code", 
            "metadata": {}, 
            "outputs": [
                {
                    "output_type": "stream", 
                    "name": "stdout", 
                    "text": "False\nTrue\n"
                }
            ], 
            "source": "print(gt50(4))\nprint(gt50(51))"
        }, 
        {
            "source": "Now let\u2019s use the lambda notation to define the function.", 
            "cell_type": "markdown", 
            "metadata": {}
        }, 
        {
            "execution_count": 5, 
            "cell_type": "code", 
            "metadata": {}, 
            "outputs": [], 
            "source": "gt50 = lambda i: i > 50"
        }, 
        {
            "execution_count": 6, 
            "cell_type": "code", 
            "metadata": {}, 
            "outputs": [
                {
                    "output_type": "stream", 
                    "name": "stdout", 
                    "text": "False\nTrue\n"
                }
            ], 
            "source": "print(gt50(4))\nprint(gt50(51))"
        }, 
        {
            "execution_count": 7, 
            "cell_type": "code", 
            "metadata": {}, 
            "outputs": [], 
            "source": "#let's shuffle our list to make it a bit more interesting\nfrom random import shuffle\nl = list(range(100))\nshuffle(l)\nrdd = sc.parallelize(l)"
        }, 
        {
            "source": "Let\u2019s filter values from our list which are equals or less than 50 by applying our \u201cgt50\u201d function to the list using the \u201cfilter\u201d function. Note that by calling the \u201ccollect\u201d function, all elements are returned to the Apache Spark Driver. This is not a good idea for BigData, please use \u201c.sample(10,0.1).collect()\u201d or \u201ctake(n)\u201d instead.", 
            "cell_type": "markdown", 
            "metadata": {}
        }, 
        {
            "execution_count": 8, 
            "cell_type": "code", 
            "metadata": {}, 
            "outputs": [
                {
                    "execution_count": 8, 
                    "metadata": {}, 
                    "data": {
                        "text/plain": "[54,\n 94,\n 75,\n 63,\n 53,\n 60,\n 99,\n 69,\n 73,\n 81,\n 95,\n 64,\n 58,\n 98,\n 83,\n 78,\n 80,\n 90,\n 91,\n 84,\n 82,\n 61,\n 71,\n 92,\n 57,\n 62,\n 65,\n 70,\n 87,\n 77,\n 59,\n 51,\n 74,\n 96,\n 66,\n 67,\n 85,\n 76,\n 93,\n 72,\n 88,\n 56,\n 97,\n 52,\n 89,\n 86,\n 55,\n 68,\n 79]"
                    }, 
                    "output_type": "execute_result"
                }
            ], 
            "source": "rdd.filter(gt50).collect()"
        }, 
        {
            "source": "We can also use the lambda function directly.", 
            "cell_type": "markdown", 
            "metadata": {}
        }, 
        {
            "execution_count": 9, 
            "cell_type": "code", 
            "metadata": {}, 
            "outputs": [
                {
                    "execution_count": 9, 
                    "metadata": {}, 
                    "data": {
                        "text/plain": "[54,\n 94,\n 75,\n 63,\n 53,\n 60,\n 99,\n 69,\n 73,\n 81,\n 95,\n 64,\n 58,\n 98,\n 83,\n 78,\n 80,\n 90,\n 91,\n 84,\n 82,\n 61,\n 71,\n 92,\n 57,\n 62,\n 65,\n 70,\n 87,\n 77,\n 59,\n 51,\n 74,\n 96,\n 66,\n 67,\n 85,\n 76,\n 93,\n 72,\n 88,\n 56,\n 97,\n 52,\n 89,\n 86,\n 55,\n 68,\n 79]"
                    }, 
                    "output_type": "execute_result"
                }
            ], 
            "source": "rdd.filter(lambda i: i > 50).collect()"
        }, 
        {
            "source": "Let\u2019s consider the same list of integers. Now we want to compute the sum for elements in that list which are greater than 50 but less than 75. Please implement the missing parts. ", 
            "cell_type": "markdown", 
            "metadata": {}
        }, 
        {
            "execution_count": 10, 
            "cell_type": "code", 
            "metadata": {}, 
            "outputs": [
                {
                    "execution_count": 10, 
                    "metadata": {}, 
                    "data": {
                        "text/plain": "1500"
                    }, 
                    "output_type": "execute_result"
                }
            ], 
            "source": "rdd.filter(lambda x: x > 50).filter(lambda x: x < 75).sum()"
        }, 
        {
            "source": "You should see \"1500\" as answer. Now we want to know the sum of all elements. Please again, have a look at the API documentation and complete the code below in order to get the sum.", 
            "cell_type": "markdown", 
            "metadata": {}
        }
    ], 
    "metadata": {
        "kernelspec": {
            "display_name": "Python 3.6 with Spark", 
            "name": "python36", 
            "language": "python3"
        }, 
        "language_info": {
            "mimetype": "text/x-python", 
            "nbconvert_exporter": "python", 
            "version": "3.6.8", 
            "name": "python", 
            "file_extension": ".py", 
            "pygments_lexer": "ipython3", 
            "codemirror_mode": {
                "version": 3, 
                "name": "ipython"
            }
        }
    }, 
    "nbformat": 4
}